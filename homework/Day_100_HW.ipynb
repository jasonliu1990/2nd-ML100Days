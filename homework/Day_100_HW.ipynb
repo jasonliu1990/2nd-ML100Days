{
 "cells": [
  {
   "cell_type": "markdown",
   "metadata": {},
   "source": [
    "## 作業\n",
    "礙於不是所有同學都有 GPU ，這邊的範例使用的是簡化版本的 ResNet，確保所有同學都能夠順利訓練!\n",
    "\n",
    "\n",
    "最後一天的作業請閱讀這篇非常詳盡的[文章](https://blog.gtwang.org/programming/keras-resnet-50-pre-trained-model-build-dogs-cats-image-classification-system/)，基本上已經涵蓋了所有訓練　CNN 常用的技巧，請使用所有學過的訓練技巧，盡可能地提高 Cifar-10 的 test data 準確率，截圖你最佳的結果並上傳來完成最後一次的作業吧!\n",
    "\n",
    "另外這些技巧在 Kaggle 上也會被許多人使用，更有人會開發一些新的技巧，例如使把預訓練在 ImageNet 上的模型當成 feature extractor 後，再拿擷取出的特徵重新訓練新的模型，這些技巧再進階的課程我們會在提到，有興趣的同學也可以[參考](https://www.kaggle.com/insaff/img-feature-extraction-with-pretrained-resnet)"
   ]
  },
  {
   "cell_type": "code",
   "execution_count": 6,
   "metadata": {},
   "outputs": [],
   "source": [
    "import keras\n",
    "from keras.datasets import cifar10\n",
    "from keras.models import Sequential\n",
    "from keras.layers import Conv2D, MaxPooling2D, Flatten, Dense\n",
    "from keras.layers import Activation, BatchNormalization, Dropout\n",
    "from keras.optimizers import Adam\n",
    "from keras.preprocessing.image import ImageDataGenerator\n",
    "import matplotlib.pyplot as plt"
   ]
  },
  {
   "cell_type": "code",
   "execution_count": 7,
   "metadata": {},
   "outputs": [
    {
     "name": "stdout",
     "output_type": "stream",
     "text": [
      "x_train shape: (50000, 32, 32, 3)\n",
      "50000 train samples\n",
      "10000 test samples\n"
     ]
    }
   ],
   "source": [
    "batch_size = 64 # batch 的大小，如果出現 OOM error，請降低這個值\n",
    "num_classes = 10 # 類別的數量，Cifar 10 共有 10 個類別\n",
    "epochs = 30 # 訓練的 epochs 數量\n",
    "\n",
    "(x_train, y_train), (x_test, y_test) = cifar10.load_data()\n",
    "print('x_train shape:', x_train.shape)\n",
    "print(x_train.shape[0], 'train samples')\n",
    "print(x_test.shape[0], 'test samples')\n",
    "x_train = x_train.astype('float32')\n",
    "x_test = x_test.astype('float32')\n",
    "x_train /= 255\n",
    "x_test /= 255\n",
    "\n",
    "# Convert class vectors to binary class matrices.\n",
    "y_train = keras.utils.to_categorical(y_train, num_classes)\n",
    "y_test = keras.utils.to_categorical(y_test, num_classes)"
   ]
  },
  {
   "cell_type": "code",
   "execution_count": 26,
   "metadata": {},
   "outputs": [],
   "source": [
    "model = Sequential()\n",
    "\n",
    "# conv block 1\n",
    "model.add(Conv2D(64, (3, 3), padding=\"same\", activation=\"relu\", input_shape=x_train.shape[1:]) )\n",
    "model.add(Conv2D(64, (3, 3), padding=\"same\" , activation=\"relu\"))\n",
    "model.add(MaxPooling2D(pool_size=(2, 2)))\n",
    "model.add(BatchNormalization())\n",
    "model.add(Dropout(0.3))\n",
    "# conv block 2\n",
    "model.add(Conv2D(128, (3, 3), padding='same',activation=\"relu\"))\n",
    "model.add(Conv2D(128, (3, 3), padding=\"same\",activation=\"relu\"))\n",
    "model.add(MaxPooling2D(pool_size=(2, 2)))\n",
    "model.add(BatchNormalization())\n",
    "model.add(Dropout(0.2))\n",
    "# conv block 3\n",
    "model.add(Conv2D(256, (3, 3), padding='same',activation=\"relu\"))\n",
    "model.add(Conv2D(256, (3, 3), padding=\"same\",activation=\"relu\"))\n",
    "model.add(MaxPooling2D(pool_size=(2, 2)))\n",
    "model.add(BatchNormalization())\n",
    "model.add(Dropout(0.1))\n",
    "# dense block\n",
    "model.add(Flatten())\n",
    "model.add(Dense(10, activation='softmax'))"
   ]
  },
  {
   "cell_type": "code",
   "execution_count": 27,
   "metadata": {},
   "outputs": [],
   "source": [
    "opt = Adam(lr=0.0001)\n",
    "model.compile(loss='categorical_crossentropy', optimizer=opt, metrics=['accuracy'])"
   ]
  },
  {
   "cell_type": "code",
   "execution_count": 28,
   "metadata": {},
   "outputs": [
    {
     "name": "stdout",
     "output_type": "stream",
     "text": [
      "Train on 50000 samples, validate on 10000 samples\n",
      "Epoch 1/30\n",
      "50000/50000 [==============================] - 35s 691us/step - loss: 1.6050 - acc: 0.4491 - val_loss: 1.6009 - val_acc: 0.4788\n",
      "Epoch 2/30\n",
      "50000/50000 [==============================] - 33s 653us/step - loss: 1.1772 - acc: 0.5871 - val_loss: 1.5919 - val_acc: 0.5044\n",
      "Epoch 3/30\n",
      "50000/50000 [==============================] - 33s 652us/step - loss: 0.9756 - acc: 0.6609 - val_loss: 1.1822 - val_acc: 0.6161\n",
      "Epoch 4/30\n",
      "50000/50000 [==============================] - 32s 649us/step - loss: 0.8389 - acc: 0.7087 - val_loss: 0.9399 - val_acc: 0.6816\n",
      "Epoch 5/30\n",
      "50000/50000 [==============================] - 32s 649us/step - loss: 0.7342 - acc: 0.7428 - val_loss: 0.8678 - val_acc: 0.7131\n",
      "Epoch 6/30\n",
      "50000/50000 [==============================] - 33s 652us/step - loss: 0.6444 - acc: 0.7768 - val_loss: 0.8460 - val_acc: 0.7191\n",
      "Epoch 7/30\n",
      "50000/50000 [==============================] - 33s 652us/step - loss: 0.5705 - acc: 0.8015 - val_loss: 0.6985 - val_acc: 0.7667\n",
      "Epoch 8/30\n",
      "50000/50000 [==============================] - 33s 654us/step - loss: 0.5096 - acc: 0.8202 - val_loss: 0.7357 - val_acc: 0.7612\n",
      "Epoch 9/30\n",
      "50000/50000 [==============================] - 33s 654us/step - loss: 0.4523 - acc: 0.8426 - val_loss: 0.7923 - val_acc: 0.7418\n",
      "Epoch 10/30\n",
      "50000/50000 [==============================] - 33s 651us/step - loss: 0.4034 - acc: 0.8595 - val_loss: 0.8275 - val_acc: 0.7395\n",
      "Epoch 11/30\n",
      "50000/50000 [==============================] - 33s 651us/step - loss: 0.3544 - acc: 0.8777 - val_loss: 0.7773 - val_acc: 0.7564\n",
      "Epoch 12/30\n",
      "50000/50000 [==============================] - 33s 666us/step - loss: 0.3173 - acc: 0.8900 - val_loss: 0.6572 - val_acc: 0.7914\n",
      "Epoch 13/30\n",
      "50000/50000 [==============================] - 33s 657us/step - loss: 0.2775 - acc: 0.9044 - val_loss: 0.6924 - val_acc: 0.7832\n",
      "Epoch 14/30\n",
      "50000/50000 [==============================] - 33s 658us/step - loss: 0.2416 - acc: 0.9178 - val_loss: 0.6547 - val_acc: 0.7973\n",
      "Epoch 15/30\n",
      "50000/50000 [==============================] - 32s 646us/step - loss: 0.2182 - acc: 0.9259 - val_loss: 0.6466 - val_acc: 0.8012\n",
      "Epoch 16/30\n",
      "50000/50000 [==============================] - 33s 653us/step - loss: 0.1919 - acc: 0.9364 - val_loss: 0.6349 - val_acc: 0.8065\n",
      "Epoch 17/30\n",
      "50000/50000 [==============================] - 32s 650us/step - loss: 0.1722 - acc: 0.9419 - val_loss: 0.7761 - val_acc: 0.7759\n",
      "Epoch 18/30\n",
      "50000/50000 [==============================] - 33s 650us/step - loss: 0.1486 - acc: 0.9510 - val_loss: 0.6490 - val_acc: 0.8066\n",
      "Epoch 19/30\n",
      "50000/50000 [==============================] - 33s 651us/step - loss: 0.1311 - acc: 0.9586 - val_loss: 0.6381 - val_acc: 0.8171\n",
      "Epoch 20/30\n",
      "50000/50000 [==============================] - 33s 654us/step - loss: 0.1208 - acc: 0.9606 - val_loss: 0.6931 - val_acc: 0.8059\n",
      "Epoch 21/30\n",
      "50000/50000 [==============================] - 33s 650us/step - loss: 0.1103 - acc: 0.9641 - val_loss: 0.6663 - val_acc: 0.8143\n",
      "Epoch 22/30\n",
      "50000/50000 [==============================] - 33s 651us/step - loss: 0.0982 - acc: 0.9689 - val_loss: 0.7144 - val_acc: 0.8100\n",
      "Epoch 23/30\n",
      "50000/50000 [==============================] - 33s 651us/step - loss: 0.0885 - acc: 0.9725 - val_loss: 0.7152 - val_acc: 0.8132\n",
      "Epoch 24/30\n",
      "50000/50000 [==============================] - 33s 650us/step - loss: 0.0842 - acc: 0.9731 - val_loss: 0.7274 - val_acc: 0.8054\n",
      "Epoch 25/30\n",
      "50000/50000 [==============================] - 33s 652us/step - loss: 0.0760 - acc: 0.9764 - val_loss: 0.6755 - val_acc: 0.8221\n",
      "Epoch 26/30\n",
      "50000/50000 [==============================] - 33s 651us/step - loss: 0.0731 - acc: 0.9771 - val_loss: 0.7328 - val_acc: 0.8113\n",
      "Epoch 27/30\n",
      "50000/50000 [==============================] - 33s 654us/step - loss: 0.0668 - acc: 0.9795 - val_loss: 0.6921 - val_acc: 0.8208\n",
      "Epoch 28/30\n",
      "50000/50000 [==============================] - 33s 651us/step - loss: 0.0640 - acc: 0.9798 - val_loss: 0.7001 - val_acc: 0.8203\n",
      "Epoch 29/30\n",
      "50000/50000 [==============================] - 33s 651us/step - loss: 0.0581 - acc: 0.9819 - val_loss: 0.7417 - val_acc: 0.8136\n",
      "Epoch 30/30\n",
      "50000/50000 [==============================] - 33s 653us/step - loss: 0.0594 - acc: 0.9811 - val_loss: 0.7012 - val_acc: 0.8242\n"
     ]
    }
   ],
   "source": [
    "history = model.fit(x_train, y_train, \n",
    "                    batch_size=batch_size, \n",
    "                    epochs=epochs, \n",
    "                    validation_data=(x_test, y_test)\n",
    "                    )\n"
   ]
  },
  {
   "cell_type": "code",
   "execution_count": 29,
   "metadata": {},
   "outputs": [
    {
     "name": "stdout",
     "output_type": "stream",
     "text": [
      "Test loss: 0.7012139758586884\n",
      "Test accuracy: 0.8242\n"
     ]
    }
   ],
   "source": [
    "score = model.evaluate(x_test, y_test, verbose=0)\n",
    "print('Test loss:', score[0])\n",
    "print('Test accuracy:', score[1])"
   ]
  },
  {
   "cell_type": "code",
   "execution_count": 30,
   "metadata": {},
   "outputs": [
    {
     "data": {
      "image/png": "[encoded data removed]",
      "text/plain": [
       "<Figure size 432x288 with 1 Axes>"
      ]
     },
     "metadata": {
      "needs_background": "light"
     },
     "output_type": "display_data"
    }
   ],
   "source": [
    "plt.plot(history.history['acc'],ms=5,marker='o',label='accuracy')\n",
    "plt.plot(history.history['val_acc'],ms=5,marker='o',label='val accuracy')\n",
    "plt.legend()\n",
    "plt.show()"
   ]
  },
  {
   "cell_type": "code",
   "execution_count": null,
   "metadata": {},
   "outputs": [],
   "source": []
  }
 ],
 "metadata": {
  "kernelspec": {
   "display_name": "tensorFlowGpu",
   "language": "python",
   "name": "tensorflowgpu"
  },
  "language_info": {
   "codemirror_mode": {
    "name": "ipython",
    "version": 3
   },
   "file_extension": ".py",
   "mimetype": "text/x-python",
   "name": "python",
   "nbconvert_exporter": "python",
   "pygments_lexer": "ipython3",
   "version": "3.6.8"
  }
 },
 "nbformat": 4,
 "nbformat_minor": 2
}
