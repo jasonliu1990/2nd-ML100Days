{
 "cells": [
  {
   "cell_type": "code",
   "execution_count": null,
   "metadata": {},
   "outputs": [],
   "source": [
    "from keras.datasets import cifar10\n",
    "from keras.preprocessing.image import ImageDataGenerator\n",
    "%matplotlib inline"
   ]
  },
  {
   "cell_type": "code",
   "execution_count": null,
   "metadata": {},
   "outputs": [],
   "source": [
    "# 此函數會幫我們把多張影像畫成一張多宮格圖\n",
    "def img_combine(img, ncols=8, size=1, path=False):\n",
    "    from math import ceil\n",
    "    import matplotlib.pyplot as plt\n",
    "    import numpy as np\n",
    "    nimg = len(img)\n",
    "    nrows = int(ceil(nimg/ncols))\n",
    "    fig, axes = plt.subplots(nrows=nrows, ncols=ncols, sharex=True, sharey=True, figsize=(ncols*size,nrows*size))\n",
    "    if nrows == 0:\n",
    "        return\n",
    "    elif ncols == 1:\n",
    "        for r, ax in zip(np.arange(nrows), axes):\n",
    "            nth=r\n",
    "            if nth < nimg:\n",
    "                ax.imshow(img[nth], cmap='rainbow', vmin=0, vmax=1)\n",
    "                \n",
    "            ax.set_axis_off()\n",
    "    elif nrows == 1:\n",
    "        for c, ax in zip(np.arange(ncols), axes):\n",
    "            nth=c\n",
    "            if nth < nimg:\n",
    "                ax.imshow(img[nth], cmap='rainbow', vmin=0, vmax=1)\n",
    "            ax.set_axis_off()\n",
    "    else:\n",
    "        for r, row in zip(np.arange(nrows), axes):\n",
    "            for c, ax in zip(np.arange(ncols), row):\n",
    "                nth=r*ncols+c\n",
    "                if nth < nimg:\n",
    "                    ax.imshow(img[nth], cmap='rainbow', vmin=0, vmax=1)\n",
    "                ax.set_axis_off()\n",
    "    plt.show()"
   ]
  },
  {
   "cell_type": "code",
   "execution_count": null,
   "metadata": {},
   "outputs": [],
   "source": [
    "# 讀取 Cifar-10 資料集\n",
    "(x_train, y_train), (x_test, y_test) = cifar10.load_data()"
   ]
  },
  {
   "cell_type": "code",
   "execution_count": null,
   "metadata": {},
   "outputs": [],
   "source": [
    "# 取前 32 張圖片做視覺化\n",
    "images = x_train[:32]\n",
    "img_combine(images)"
   ]
  },
  {
   "cell_type": "code",
   "execution_count": null,
   "metadata": {},
   "outputs": [],
   "source": [
    "# 建立 ImageDataGenerator，並指定我們要做資料增強的數值範圍\n",
    "data_generator = ImageDataGenerator(\n",
    "    rotation_range=20,\n",
    "    width_shift_range=0.2,\n",
    "    height_shift_range=0.2,\n",
    "    horizontal_flip=True)"
   ]
  },
  {
   "cell_type": "code",
   "execution_count": null,
   "metadata": {},
   "outputs": [],
   "source": [
    "# 注意！！ ImageDataGenerator 是一個 Generator (生成器)! 對 Generator 不熟悉的同學請回到 Day098 做複習。\n",
    "# 使用 .flow 後，就會對我們的影像進行增強，再 call next 取出 generator 的圖像。(shuffle=False 因為我們希望圖像的順序不要改變，方便觀察。實際訓練時預設是 shuffle=True) \n",
    "augmented_iamges = next(data_generator.flow(images, shuffle=False))\n",
    "img_combine(augmented_iamges.astype(\"int\")) # 注意在訓練時神經網路時，圖像資料必須要是 float32，但在做視覺化時要轉為 int 才能順利畫圖。所以為了畫圖才把資料轉為 int"
   ]
  },
  {
   "cell_type": "code",
   "execution_count": null,
   "metadata": {},
   "outputs": [],
   "source": [
    "# 因為隨機性的關係，所以一樣的圖像再經過一次 generator 後的結果不一定相同\n",
    "augmented_iamges = next(data_generator.flow(images, shuffle=False))\n",
    "img_combine(augmented_iamges.astype(\"int\"))"
   ]
  },
  {
   "cell_type": "markdown",
   "metadata": {},
   "source": [
    "## 作業"
   ]
  },
  {
   "cell_type": "markdown",
   "metadata": {},
   "source": [
    "請使用 ImageDataGenerator 來進行 Cifar-10 資料集的訓練，並觀察不同的圖像增強方法是否會顯著影響訓練結果"
   ]
  },
  {
   "cell_type": "code",
   "execution_count": 1,
   "metadata": {},
   "outputs": [
    {
     "name": "stderr",
     "output_type": "stream",
     "text": [
      "Using TensorFlow backend.\n"
     ]
    }
   ],
   "source": [
    "import keras\n",
    "from keras.datasets import cifar10\n",
    "from keras.models import Sequential\n",
    "from keras.layers import Conv2D, MaxPooling2D, Flatten, Dense\n",
    "from keras.layers import Activation, BatchNormalization, Dropout\n",
    "from keras.optimizers import Adam\n",
    "from keras.preprocessing.image import ImageDataGenerator\n",
    "import matplotlib.pyplot as plt"
   ]
  },
  {
   "cell_type": "code",
   "execution_count": 2,
   "metadata": {},
   "outputs": [
    {
     "name": "stdout",
     "output_type": "stream",
     "text": [
      "x_train shape: (50000, 32, 32, 3)\n",
      "50000 train samples\n",
      "10000 test samples\n"
     ]
    }
   ],
   "source": [
    "batch_size = 128 # batch 的大小，如果出現 OOM error，請降低這個值\n",
    "num_classes = 10 # 類別的數量，Cifar 10 共有 10 個類別\n",
    "epochs = 20 # 訓練的 epochs 數量\n",
    "\n",
    "(x_train, y_train), (x_test, y_test) = cifar10.load_data()\n",
    "print('x_train shape:', x_train.shape)\n",
    "print(x_train.shape[0], 'train samples')\n",
    "print(x_test.shape[0], 'test samples')\n",
    "x_train = x_train.astype('float32')\n",
    "x_test = x_test.astype('float32')\n",
    "x_train /= 255\n",
    "x_test /= 255\n",
    "\n",
    "# Convert class vectors to binary class matrices.\n",
    "y_train = keras.utils.to_categorical(y_train, num_classes)\n",
    "y_test = keras.utils.to_categorical(y_test, num_classes)"
   ]
  },
  {
   "cell_type": "code",
   "execution_count": 3,
   "metadata": {},
   "outputs": [],
   "source": [
    "model = Sequential()\n",
    "\n",
    "# conv block 1\n",
    "model.add(Conv2D(64, (3, 3), padding=\"same\", activation=\"relu\", input_shape=x_train.shape[1:]) )\n",
    "model.add(Conv2D(64, (3, 3), padding=\"same\" , activation=\"relu\"))\n",
    "model.add(MaxPooling2D(pool_size=(2, 2)))\n",
    "model.add(BatchNormalization())\n",
    "model.add(Dropout(0.3))\n",
    "# conv block 2\n",
    "model.add(Conv2D(128, (3, 3), padding='same',activation=\"relu\"))\n",
    "model.add(Conv2D(128, (3, 3), padding=\"same\",activation=\"relu\"))\n",
    "model.add(MaxPooling2D(pool_size=(2, 2)))\n",
    "model.add(BatchNormalization())\n",
    "model.add(Dropout(0.2))\n",
    "# conv block 3\n",
    "model.add(Conv2D(256, (3, 3), padding='same',activation=\"relu\"))\n",
    "model.add(Conv2D(256, (3, 3), padding=\"same\",activation=\"relu\"))\n",
    "model.add(MaxPooling2D(pool_size=(2, 2)))\n",
    "model.add(BatchNormalization())\n",
    "model.add(Dropout(0.1))\n",
    "# dense block\n",
    "model.add(Flatten())\n",
    "model.add(Dense(1024,activation=\"relu\"))\n",
    "model.add(BatchNormalization())\n",
    "model.add(Dropout(0.01))\n",
    "model.add(Dense(10, activation='softmax'))"
   ]
  },
  {
   "cell_type": "code",
   "execution_count": 4,
   "metadata": {},
   "outputs": [],
   "source": [
    "\"\"\" 產生generator\n",
    "\"\"\"\n",
    "gen = ImageDataGenerator(rotation_range=45, # 隨機轉動的角度\n",
    "                         width_shift_range=0.2, # 水平偏移的幅度\n",
    "                         height_shift_range=0.2, # 垂直偏移的幅度\n",
    "                         shear_range=0.3, # 剪切強度\n",
    "                         zoom_range=0.2, # 隨機縮放的強度\n",
    "                         horizontal_flip=True, # 水平翻轉\n",
    "                         vertical_flip=True # 垂直翻轉 \n",
    "                        )\n",
    "gen.fit(x_train)\n",
    "train_generator = gen.flow(x_train, y_train, batch_size=batch_size)"
   ]
  },
  {
   "cell_type": "code",
   "execution_count": 5,
   "metadata": {},
   "outputs": [
    {
     "name": "stdout",
     "output_type": "stream",
     "text": [
      "Epoch 1/20\n",
      "391/390 [==============================] - 37s 94ms/step - loss: 2.0400 - acc: 0.3011 - val_loss: 1.7567 - val_acc: 0.3867\n",
      "Epoch 2/20\n",
      "391/390 [==============================] - 31s 79ms/step - loss: 1.7298 - acc: 0.3791 - val_loss: 1.8966 - val_acc: 0.3715\n",
      "Epoch 3/20\n",
      "391/390 [==============================] - 32s 81ms/step - loss: 1.6301 - acc: 0.4112 - val_loss: 1.6892 - val_acc: 0.4286\n",
      "Epoch 4/20\n",
      "391/390 [==============================] - 33s 84ms/step - loss: 1.5596 - acc: 0.4372 - val_loss: 2.0104 - val_acc: 0.3804\n",
      "Epoch 5/20\n",
      "391/390 [==============================] - 32s 81ms/step - loss: 1.5041 - acc: 0.4597 - val_loss: 1.6434 - val_acc: 0.4527\n",
      "Epoch 6/20\n",
      "391/390 [==============================] - 31s 80ms/step - loss: 1.4474 - acc: 0.4795 - val_loss: 1.7068 - val_acc: 0.4326\n",
      "Epoch 7/20\n",
      "391/390 [==============================] - 31s 80ms/step - loss: 1.3998 - acc: 0.4977 - val_loss: 1.8540 - val_acc: 0.4120\n",
      "Epoch 8/20\n",
      "391/390 [==============================] - 31s 80ms/step - loss: 1.3493 - acc: 0.5156 - val_loss: 1.5244 - val_acc: 0.4902\n",
      "Epoch 9/20\n",
      "391/390 [==============================] - 31s 79ms/step - loss: 1.3081 - acc: 0.5308 - val_loss: 1.5082 - val_acc: 0.5085\n",
      "Epoch 10/20\n",
      "391/390 [==============================] - 31s 79ms/step - loss: 1.2783 - acc: 0.5451 - val_loss: 1.2826 - val_acc: 0.5662\n",
      "Epoch 11/20\n",
      "391/390 [==============================] - 32s 81ms/step - loss: 1.2386 - acc: 0.5569 - val_loss: 1.5578 - val_acc: 0.5005\n",
      "Epoch 12/20\n",
      "391/390 [==============================] - 31s 80ms/step - loss: 1.2045 - acc: 0.5705 - val_loss: 1.3486 - val_acc: 0.5534\n",
      "Epoch 13/20\n",
      "391/390 [==============================] - 31s 79ms/step - loss: 1.1765 - acc: 0.5818 - val_loss: 1.4357 - val_acc: 0.5440\n",
      "Epoch 14/20\n",
      "391/390 [==============================] - 31s 79ms/step - loss: 1.1418 - acc: 0.5951 - val_loss: 1.1994 - val_acc: 0.5969\n",
      "Epoch 15/20\n",
      "391/390 [==============================] - 31s 79ms/step - loss: 1.1178 - acc: 0.6035 - val_loss: 1.1766 - val_acc: 0.6005\n",
      "Epoch 16/20\n",
      "391/390 [==============================] - 31s 79ms/step - loss: 1.0934 - acc: 0.6119 - val_loss: 1.2064 - val_acc: 0.6051\n",
      "Epoch 17/20\n",
      "391/390 [==============================] - 31s 80ms/step - loss: 1.0719 - acc: 0.6206 - val_loss: 1.1637 - val_acc: 0.6166\n",
      "Epoch 18/20\n",
      "391/390 [==============================] - 31s 80ms/step - loss: 1.0420 - acc: 0.6298 - val_loss: 1.0532 - val_acc: 0.6423\n",
      "Epoch 19/20\n",
      "391/390 [==============================] - 31s 79ms/step - loss: 1.0277 - acc: 0.6365 - val_loss: 1.1604 - val_acc: 0.6082\n",
      "Epoch 20/20\n",
      "391/390 [==============================] - 31s 80ms/step - loss: 1.0093 - acc: 0.6434 - val_loss: 1.2293 - val_acc: 0.5892\n"
     ]
    }
   ],
   "source": [
    "opt = Adam(lr=0.0001)\n",
    "model.compile(loss='categorical_crossentropy', optimizer=opt, metrics=['accuracy'])\n",
    "history = model.fit_generator(train_generator, \n",
    "                              steps_per_epoch=len(x_train) / batch_size, \n",
    "                              epochs=epochs, \n",
    "                              validation_data=(x_test, y_test))"
   ]
  },
  {
   "cell_type": "code",
   "execution_count": 6,
   "metadata": {},
   "outputs": [
    {
     "data": {
      "image/png": "[encoded data removed]",
      "text/plain": [
       "<Figure size 432x288 with 1 Axes>"
      ]
     },
     "metadata": {
      "needs_background": "light"
     },
     "output_type": "display_data"
    }
   ],
   "source": [
    "# 畫出訓練過程\n",
    "plt.plot(history.history['acc'],ms=5,marker='o',label='accuracy')\n",
    "plt.plot(history.history['val_acc'],ms=5,marker='o',label='val accuracy')\n",
    "plt.legend()\n",
    "plt.show()"
   ]
  },
  {
   "cell_type": "code",
   "execution_count": 7,
   "metadata": {},
   "outputs": [
    {
     "name": "stdout",
     "output_type": "stream",
     "text": [
      "Test loss: 1.2292630896568297\n",
      "Test accuracy: 0.5892\n"
     ]
    }
   ],
   "source": [
    "score = model.evaluate(x_test, y_test, verbose=0)\n",
    "print('Test loss:', score[0])\n",
    "print('Test accuracy:', score[1])"
   ]
  },
  {
   "cell_type": "code",
   "execution_count": null,
   "metadata": {},
   "outputs": [],
   "source": []
  },
  {
   "cell_type": "code",
   "execution_count": null,
   "metadata": {},
   "outputs": [],
   "source": []
  }
 ],
 "metadata": {
  "kernelspec": {
   "display_name": "tensorFlowGpu",
   "language": "python",
   "name": "tensorflowgpu"
  },
  "language_info": {
   "codemirror_mode": {
    "name": "ipython",
    "version": 3
   },
   "file_extension": ".py",
   "mimetype": "text/x-python",
   "name": "python",
   "nbconvert_exporter": "python",
   "pygments_lexer": "ipython3",
   "version": "3.6.8"
  }
 },
 "nbformat": 4,
 "nbformat_minor": 2
}
