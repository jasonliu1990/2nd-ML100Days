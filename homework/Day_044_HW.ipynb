{
 "cells": [
  {
   "cell_type": "markdown",
   "metadata": {},
   "source": [
    "## [作業重點]\n",
    "確保你了解隨機森林模型中每個超參數的意義，並觀察調整超參數對結果的影響"
   ]
  },
  {
   "cell_type": "markdown",
   "metadata": {},
   "source": [
    "## 作業\n",
    "\n",
    "1. 試著調整 RandomForestClassifier(...) 中的參數，並觀察是否會改變結果？\n",
    "2. 改用其他資料集 (boston, wine)，並與回歸模型與決策樹的結果進行比較"
   ]
  },
  {
   "cell_type": "code",
   "execution_count": 2,
   "metadata": {},
   "outputs": [],
   "source": [
    "from sklearn import datasets\n",
    "from sklearn.model_selection import train_test_split\n",
    "from sklearn.ensemble import RandomForestClassifier, RandomForestRegressor\n",
    "from sklearn.metrics import mean_squared_error, accuracy_score"
   ]
  },
  {
   "cell_type": "code",
   "execution_count": 3,
   "metadata": {},
   "outputs": [],
   "source": [
    "\"\"\" iris資料集\n",
    "\"\"\"\n",
    "iris = datasets.load_iris()\n",
    "train_X, test_X, train_Y, test_Y = train_test_split(iris.data, iris.target, test_size=0.2, random_state=4)\n",
    "model = RandomForestClassifier(n_estimators=100, max_depth=5, n_jobs=-1)\n",
    "model.fit(train_X, train_Y)\n",
    "pred = model.predict(test_X)"
   ]
  },
  {
   "cell_type": "code",
   "execution_count": 4,
   "metadata": {},
   "outputs": [
    {
     "name": "stdout",
     "output_type": "stream",
     "text": [
      "accuracy: 0.9666666666666667\n"
     ]
    }
   ],
   "source": [
    "print('accuracy: {}'.format(accuracy_score(test_Y, pred)))"
   ]
  },
  {
   "cell_type": "code",
   "execution_count": 5,
   "metadata": {},
   "outputs": [],
   "source": [
    "\"\"\" boston資料集\n",
    "\"\"\"\n",
    "boston = datasets.load_boston()\n",
    "train_X, test_X, train_Y, test_Y = train_test_split(boston.data, boston.target, test_size=0.2, random_state=4)\n",
    "model = RandomForestRegressor(n_estimators=100, max_depth=3, n_jobs=-1)\n",
    "model.fit(train_X, train_Y)\n",
    "pred = model.predict(test_X)"
   ]
  },
  {
   "cell_type": "code",
   "execution_count": 6,
   "metadata": {},
   "outputs": [
    {
     "name": "stdout",
     "output_type": "stream",
     "text": [
      "MSE: 24.697773968557136\n"
     ]
    }
   ],
   "source": [
    "print('MSE: {}'.format(mean_squared_error(test_Y, pred)))"
   ]
  }
 ],
 "metadata": {
  "kernelspec": {
   "display_name": "Python 3",
   "language": "python",
   "name": "python3"
  }
 },
 "nbformat": 4,
 "nbformat_minor": 2
}
